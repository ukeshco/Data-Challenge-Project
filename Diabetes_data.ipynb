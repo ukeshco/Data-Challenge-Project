{
 "cells": [
  {
   "cell_type": "markdown",
   "metadata": {},
   "source": [
    "# Project Proposal : diabetes data\n",
    "\n",
    "**For the project, I propose to analyse the diabetes data available at 'UCI Machine Learning Repository'. The data has more than hundred thousands entries with fifty features. The data comprised of demographic informations of diabetes patients along with a detailed description of medications during their inpatient visit at a hospital. The primary aim of the analysis is to examine if certain decisions made during patients' hospital visit would be helpful to predict their discharge to home. Also, it would be interesting to test if any combinations of the features in the data play a major role as predictors of readmission in the future. The motivation is, these predictors can be invaluable in the determination of new approaches to discharge a patient to his/her home at ease, and also cut down the hospital readmission minimizing the cost of the health care.**\n",
    "\n",
    "**I propose to utilize supervised machine learning techiniques to build predictive models which can help design appropriate strategies in hospitals. 'Multivariable Logistic Regression' is my first choice to build a predictive model. Moreover, I intend to build another supervised model based on 'Decision Tree', and compare to see which one is more reliable. Exploratory data analysis will be performed to directly visualize the relation between different features.**\n"
   ]
  },
  {
   "cell_type": "code",
   "execution_count": 5,
   "metadata": {},
   "outputs": [],
   "source": [
    "import pandas as pd\n",
    "import numpy as np\n",
    "import matplotlib.pyplot as plt\n",
    "\n",
    "import seaborn as sns\n",
    "sns.set(style=\"white\")\n",
    "sns.set(style=\"whitegrid\", color_codes=True)\n",
    "\n",
    "from sklearn.linear_model import LogisticRegression\n",
    "from sklearn.model_selection import train_test_split\n"
   ]
  },
  {
   "cell_type": "markdown",
   "metadata": {},
   "source": [
    "data = pd.read_csv('diabetic_data.csv')"
   ]
  },
  {
   "cell_type": "code",
   "execution_count": 7,
   "metadata": {},
   "outputs": [
    {
     "data": {
      "text/plain": [
       "(101766, 50)"
      ]
     },
     "execution_count": 7,
     "metadata": {},
     "output_type": "execute_result"
    }
   ],
   "source": [
    "data.head()\n",
    "data.describe()\n",
    "list(data.columns)\n",
    "data.shape"
   ]
  },
  {
   "cell_type": "markdown",
   "metadata": {},
   "source": [
    "### Dealing with mising values and removing irrevelent columns"
   ]
  },
  {
   "cell_type": "code",
   "execution_count": 258,
   "metadata": {},
   "outputs": [
    {
     "data": {
      "text/plain": [
       "encounter_id                0\n",
       "patient_nbr                 0\n",
       "race                        0\n",
       "gender                      0\n",
       "age                         0\n",
       "weight                      0\n",
       "admission_type_id           0\n",
       "discharge_disposition_id    0\n",
       "admission_source_id         0\n",
       "time_in_hospital            0\n",
       "payer_code                  0\n",
       "medical_specialty           0\n",
       "num_lab_procedures          0\n",
       "num_procedures              0\n",
       "num_medications             0\n",
       "number_outpatient           0\n",
       "number_emergency            0\n",
       "number_inpatient            0\n",
       "diag_1                      0\n",
       "diag_2                      0\n",
       "diag_3                      0\n",
       "number_diagnoses            0\n",
       "max_glu_serum               0\n",
       "A1Cresult                   0\n",
       "metformin                   0\n",
       "repaglinide                 0\n",
       "nateglinide                 0\n",
       "chlorpropamide              0\n",
       "glimepiride                 0\n",
       "acetohexamide               0\n",
       "glipizide                   0\n",
       "glyburide                   0\n",
       "tolbutamide                 0\n",
       "pioglitazone                0\n",
       "rosiglitazone               0\n",
       "acarbose                    0\n",
       "miglitol                    0\n",
       "troglitazone                0\n",
       "tolazamide                  0\n",
       "examide                     0\n",
       "citoglipton                 0\n",
       "insulin                     0\n",
       "glyburide-metformin         0\n",
       "glipizide-metformin         0\n",
       "glimepiride-pioglitazone    0\n",
       "metformin-rosiglitazone     0\n",
       "metformin-pioglitazone      0\n",
       "change                      0\n",
       "diabetesMed                 0\n",
       "readmitted                  0\n",
       "dtype: int64"
      ]
     },
     "execution_count": 258,
     "metadata": {},
     "output_type": "execute_result"
    }
   ],
   "source": [
    "data.isna().sum()"
   ]
  },
  {
   "cell_type": "markdown",
   "metadata": {},
   "source": [
    "* there are no nan values but missing values were assigned as \"?\""
   ]
  },
  {
   "cell_type": "code",
   "execution_count": 259,
   "metadata": {},
   "outputs": [
    {
     "data": {
      "text/plain": [
       "encounter_id                    0\n",
       "patient_nbr                     0\n",
       "race                         2273\n",
       "gender                          0\n",
       "age                             0\n",
       "weight                      98569\n",
       "admission_type_id               0\n",
       "discharge_disposition_id        0\n",
       "admission_source_id             0\n",
       "time_in_hospital                0\n",
       "payer_code                  40256\n",
       "medical_specialty           49949\n",
       "num_lab_procedures              0\n",
       "num_procedures                  0\n",
       "num_medications                 0\n",
       "number_outpatient               0\n",
       "number_emergency                0\n",
       "number_inpatient                0\n",
       "diag_1                         21\n",
       "diag_2                        358\n",
       "diag_3                       1423\n",
       "number_diagnoses                0\n",
       "max_glu_serum                   0\n",
       "A1Cresult                       0\n",
       "metformin                       0\n",
       "repaglinide                     0\n",
       "nateglinide                     0\n",
       "chlorpropamide                  0\n",
       "glimepiride                     0\n",
       "acetohexamide                   0\n",
       "glipizide                       0\n",
       "glyburide                       0\n",
       "tolbutamide                     0\n",
       "pioglitazone                    0\n",
       "rosiglitazone                   0\n",
       "acarbose                        0\n",
       "miglitol                        0\n",
       "troglitazone                    0\n",
       "tolazamide                      0\n",
       "examide                         0\n",
       "citoglipton                     0\n",
       "insulin                         0\n",
       "glyburide-metformin             0\n",
       "glipizide-metformin             0\n",
       "glimepiride-pioglitazone        0\n",
       "metformin-rosiglitazone         0\n",
       "metformin-pioglitazone          0\n",
       "change                          0\n",
       "diabetesMed                     0\n",
       "readmitted                      0\n",
       "dtype: int64"
      ]
     },
     "execution_count": 259,
     "metadata": {},
     "output_type": "execute_result"
    }
   ],
   "source": [
    "data.isin(['?']).sum(axis=0)"
   ]
  },
  {
   "cell_type": "markdown",
   "metadata": {},
   "source": [
    "* There are lots of \"?\" values for the variable \"Weight\", so we will drop this features. For other features, we will replace \"?\" values as \"missing\""
   ]
  },
  {
   "cell_type": "markdown",
   "metadata": {},
   "source": [
    "* Also, we will remove the features,**'encounter_id'**,**'patient_nbr'**, **'payer_code'**, which are irrevelent. Diabetic medication features starting from **'metformin'**..........**'metformin-pioglitazone'** (total of 23 features) beacause the content of these features in general are reflected by the variables \"change\" and \"diabetesMed\", where \"diabetesMed\" gives \"Yes/No\" values for if there was any diabetic medication prescribed, and \"change\" gives \"Ch/No\" values for if there was any change in medication during the encounter. "
   ]
  },
  {
   "cell_type": "code",
   "execution_count": 8,
   "metadata": {},
   "outputs": [],
   "source": [
    "data = data.drop(columns = ['encounter_id','patient_nbr','weight','payer_code'])\n",
    "col_m = data.columns.get_loc('metformin')\n",
    "col_mp = data.columns.get_loc('metformin-pioglitazone')\n",
    "#data = data.drop(data.iloc[:, -1])\n",
    "data = data.drop(data.columns[col_m:col_mp+1], axis = 1) "
   ]
  },
  {
   "cell_type": "code",
   "execution_count": 9,
   "metadata": {},
   "outputs": [
    {
     "data": {
      "text/plain": [
       "['race',\n",
       " 'gender',\n",
       " 'age',\n",
       " 'admission_type_id',\n",
       " 'discharge_disposition_id',\n",
       " 'admission_source_id',\n",
       " 'time_in_hospital',\n",
       " 'medical_specialty',\n",
       " 'num_lab_procedures',\n",
       " 'num_procedures',\n",
       " 'num_medications',\n",
       " 'number_outpatient',\n",
       " 'number_emergency',\n",
       " 'number_inpatient',\n",
       " 'diag_1',\n",
       " 'diag_2',\n",
       " 'diag_3',\n",
       " 'number_diagnoses',\n",
       " 'max_glu_serum',\n",
       " 'A1Cresult',\n",
       " 'change',\n",
       " 'diabetesMed',\n",
       " 'readmitted']"
      ]
     },
     "execution_count": 9,
     "metadata": {},
     "output_type": "execute_result"
    }
   ],
   "source": [
    "list(data.columns)"
   ]
  },
  {
   "cell_type": "markdown",
   "metadata": {},
   "source": [
    "* These are the 23 remaining number of columns"
   ]
  },
  {
   "cell_type": "markdown",
   "metadata": {},
   "source": [
    "Now, let's replace '?' values in the columns with 'missing' "
   ]
  },
  {
   "cell_type": "code",
   "execution_count": 10,
   "metadata": {},
   "outputs": [
    {
     "data": {
      "text/plain": [
       "race                        0\n",
       "gender                      0\n",
       "age                         0\n",
       "admission_type_id           0\n",
       "discharge_disposition_id    0\n",
       "admission_source_id         0\n",
       "time_in_hospital            0\n",
       "medical_specialty           0\n",
       "num_lab_procedures          0\n",
       "num_procedures              0\n",
       "num_medications             0\n",
       "number_outpatient           0\n",
       "number_emergency            0\n",
       "number_inpatient            0\n",
       "diag_1                      0\n",
       "diag_2                      0\n",
       "diag_3                      0\n",
       "number_diagnoses            0\n",
       "max_glu_serum               0\n",
       "A1Cresult                   0\n",
       "change                      0\n",
       "diabetesMed                 0\n",
       "readmitted                  0\n",
       "dtype: int64"
      ]
     },
     "execution_count": 10,
     "metadata": {},
     "output_type": "execute_result"
    }
   ],
   "source": [
    "data.replace(to_replace = ['?'], value = 'missing', inplace = True)\n",
    "data.isin(['?']).sum()"
   ]
  },
  {
   "cell_type": "code",
   "execution_count": 11,
   "metadata": {},
   "outputs": [
    {
     "data": {
      "text/plain": [
       "race                          6\n",
       "gender                        3\n",
       "age                          10\n",
       "admission_type_id             8\n",
       "discharge_disposition_id     26\n",
       "admission_source_id          17\n",
       "time_in_hospital             14\n",
       "medical_specialty            73\n",
       "num_lab_procedures          118\n",
       "num_procedures                7\n",
       "num_medications              75\n",
       "number_outpatient            39\n",
       "number_emergency             33\n",
       "number_inpatient             21\n",
       "diag_1                      717\n",
       "diag_2                      749\n",
       "diag_3                      790\n",
       "number_diagnoses             16\n",
       "max_glu_serum                 4\n",
       "A1Cresult                     4\n",
       "change                        2\n",
       "diabetesMed                   2\n",
       "readmitted                    3\n",
       "dtype: int64"
      ]
     },
     "execution_count": 11,
     "metadata": {},
     "output_type": "execute_result"
    }
   ],
   "source": [
    "data.nunique()"
   ]
  },
  {
   "cell_type": "markdown",
   "metadata": {},
   "source": [
    "Since, we are interested in \"Discharge to home\" for the 'discharge_disposition_id' (id value = 1)"
   ]
  },
  {
   "cell_type": "code",
   "execution_count": 12,
   "metadata": {},
   "outputs": [],
   "source": [
    "data.loc[data['discharge_disposition_id'] != 1, 'discharge_disposition_id'] = 0"
   ]
  },
  {
   "cell_type": "markdown",
   "metadata": {},
   "source": [
    "replacing <30 and >30 with YES for the readmitted values"
   ]
  },
  {
   "cell_type": "code",
   "execution_count": 13,
   "metadata": {},
   "outputs": [
    {
     "data": {
      "text/plain": [
       "NO     54864\n",
       "YES    46902\n",
       "Name: readmitted, dtype: int64"
      ]
     },
     "execution_count": 13,
     "metadata": {},
     "output_type": "execute_result"
    }
   ],
   "source": [
    "data['readmitted'] = data['readmitted'].replace({'<30':'YES', '>30':'YES'})\n",
    "data.readmitted.value_counts()"
   ]
  },
  {
   "cell_type": "markdown",
   "metadata": {},
   "source": [
    "Working with admission_type_id"
   ]
  },
  {
   "cell_type": "code",
   "execution_count": 14,
   "metadata": {},
   "outputs": [
    {
     "data": {
      "text/plain": [
       "1    53990\n",
       "3    18869\n",
       "2    18480\n",
       "6     5291\n",
       "5     4785\n",
       "8      320\n",
       "7       21\n",
       "4       10\n",
       "Name: admission_type_id, dtype: int64"
      ]
     },
     "execution_count": 14,
     "metadata": {},
     "output_type": "execute_result"
    }
   ],
   "source": [
    "data.admission_type_id.value_counts()"
   ]
  },
  {
   "cell_type": "code",
   "execution_count": 15,
   "metadata": {},
   "outputs": [
    {
     "data": {
      "text/plain": [
       "<matplotlib.axes._subplots.AxesSubplot at 0x17f95e2c208>"
      ]
     },
     "execution_count": 15,
     "metadata": {},
     "output_type": "execute_result"
    },
    {
     "data": {
      "image/png": "[encoded data removed]",
      "text/plain": [
       "<matplotlib.figure.Figure at 0x17f95cfeb70>"
      ]
     },
     "metadata": {},
     "output_type": "display_data"
    },
    {
     "data": {
      "image/png": "[encoded data removed]",
      "text/plain": [
       "<matplotlib.figure.Figure at 0x17f95e36898>"
      ]
     },
     "metadata": {},
     "output_type": "display_data"
    }
   ],
   "source": [
    "pd.crosstab(data.admission_type_id,data.readmitted).plot(kind='bar')\n",
    "pd.crosstab(data.admission_type_id,data.discharge_disposition_id).plot(kind='bar')"
   ]
  },
  {
   "cell_type": "markdown",
   "metadata": {},
   "source": [
    "The values 4 ,7, and 8 are neglegible, we will replace 4 to 8 with 0 (i.e. others)"
   ]
  },
  {
   "cell_type": "code",
   "execution_count": 16,
   "metadata": {},
   "outputs": [
    {
     "data": {
      "text/plain": [
       "<matplotlib.axes._subplots.AxesSubplot at 0x17f95f826a0>"
      ]
     },
     "execution_count": 16,
     "metadata": {},
     "output_type": "execute_result"
    },
    {
     "data": {
      "image/png": "[encoded data removed]",
      "text/plain": [
       "<matplotlib.figure.Figure at 0x17f95c03a58>"
      ]
     },
     "metadata": {},
     "output_type": "display_data"
    },
    {
     "data": {
      "image/png": "[encoded data removed]",
      "text/plain": [
       "<matplotlib.figure.Figure at 0x17f95f7aef0>"
      ]
     },
     "metadata": {},
     "output_type": "display_data"
    }
   ],
   "source": [
    "data['admission_type_id'] = data['admission_type_id'].replace({4:0, 5:0, 6:0, 7:0, 8:0})\n",
    "data.admission_type_id.value_counts()\n",
    "pd.crosstab(data.admission_type_id,data.readmitted).plot(kind='bar')\n",
    "pd.crosstab(data.admission_type_id,data.discharge_disposition_id).plot(kind='bar')"
   ]
  },
  {
   "cell_type": "code",
   "execution_count": 17,
   "metadata": {},
   "outputs": [
    {
     "data": {
      "text/plain": [
       "<matplotlib.axes._subplots.AxesSubplot at 0x17f95ff6cc0>"
      ]
     },
     "execution_count": 17,
     "metadata": {},
     "output_type": "execute_result"
    },
    {
     "data": {
      "image/png": "[encoded data removed]",
      "text/plain": [
       "<matplotlib.figure.Figure at 0x17f95fc7c18>"
      ]
     },
     "metadata": {},
     "output_type": "display_data"
    },
    {
     "data": {
      "image/png": "[encoded data removed]",
      "text/plain": [
       "<matplotlib.figure.Figure at 0x17f95f40278>"
      ]
     },
     "metadata": {},
     "output_type": "display_data"
    }
   ],
   "source": [
    "data.loc[(data['admission_source_id'] != 1) & (data['admission_source_id'] !=7 ), 'admission_source_id'] = 0\n",
    "data.admission_source_id.value_counts()\n",
    "pd.crosstab(data.admission_source_id,data.discharge_disposition_id).plot(kind='bar') \n",
    "pd.crosstab(data.admission_source_id,data.readmitted).plot(kind='bar') "
   ]
  },
  {
   "cell_type": "code",
   "execution_count": 18,
   "metadata": {},
   "outputs": [
    {
     "data": {
      "text/plain": [
       "<matplotlib.axes._subplots.AxesSubplot at 0x17f921e44e0>"
      ]
     },
     "execution_count": 18,
     "metadata": {},
     "output_type": "execute_result"
    },
    {
     "data": {
      "image/png": "[encoded data removed]",
      "text/plain": [
       "<matplotlib.figure.Figure at 0x17f95c3a908>"
      ]
     },
     "metadata": {},
     "output_type": "display_data"
    }
   ],
   "source": [
    "data.discharge_disposition_id.value_counts()\n",
    "pd.crosstab(data.discharge_disposition_id,data.readmitted).plot(kind='bar')"
   ]
  },
  {
   "cell_type": "code",
   "execution_count": 19,
   "metadata": {},
   "outputs": [
    {
     "data": {
      "text/plain": [
       "<matplotlib.axes._subplots.AxesSubplot at 0x17f96068710>"
      ]
     },
     "execution_count": 19,
     "metadata": {},
     "output_type": "execute_result"
    },
    {
     "data": {
      "image/png": "[encoded data removed]",
      "text/plain": [
       "<matplotlib.figure.Figure at 0x17f95f36e10>"
      ]
     },
     "metadata": {},
     "output_type": "display_data"
    },
    {
     "data": {
      "image/png": "[encoded data removed]",
      "text/plain": [
       "<matplotlib.figure.Figure at 0x17f960e90b8>"
      ]
     },
     "metadata": {},
     "output_type": "display_data"
    }
   ],
   "source": [
    "data.time_in_hospital.value_counts()\n",
    "pd.crosstab(data.time_in_hospital,data.readmitted).plot(kind='bar')\n",
    "pd.crosstab(data.time_in_hospital,data.discharge_disposition_id).plot(kind='bar')"
   ]
  },
  {
   "cell_type": "code",
   "execution_count": 20,
   "metadata": {},
   "outputs": [
    {
     "data": {
      "text/plain": [
       "<matplotlib.axes._subplots.AxesSubplot at 0x17f969fd048>"
      ]
     },
     "execution_count": 20,
     "metadata": {},
     "output_type": "execute_result"
    },
    {
     "data": {
      "image/png": "[encoded data removed]",
      "text/plain": [
       "<matplotlib.figure.Figure at 0x17f960c81d0>"
      ]
     },
     "metadata": {},
     "output_type": "display_data"
    },
    {
     "data": {
      "image/png": "[encoded data removed]",
      "text/plain": [
       "<matplotlib.figure.Figure at 0x17f96a04860>"
      ]
     },
     "metadata": {},
     "output_type": "display_data"
    }
   ],
   "source": [
    "#x.replace([1, 2, 3, 4], [-1, -2, -3, -4])\n",
    "data.time_in_hospital = data.time_in_hospital.replace([0,1,2,3,4], ['1-4','1-4', '1-4', '1-4', '1-4'])\n",
    "data.time_in_hospital = data.time_in_hospital.replace([5,6,7,8], ['5-8', '5-8', '5-8', '5-8'])\n",
    "data.time_in_hospital = data.time_in_hospital.replace([9,10,11,12,13,14], ['9-14', '9-14', '9-14', '9-14', '9-14', '9-14'])\n",
    "data.time_in_hospital.value_counts()\n",
    "data.time_in_hospital.value_counts()\n",
    "pd.crosstab(data.time_in_hospital,data.readmitted).plot(kind='bar')\n",
    "pd.crosstab(data.time_in_hospital,data.discharge_disposition_id).plot(kind='bar')"
   ]
  },
  {
   "cell_type": "markdown",
   "metadata": {},
   "source": [
    "**Medical Specialty**"
   ]
  },
  {
   "cell_type": "code",
   "execution_count": 21,
   "metadata": {},
   "outputs": [
    {
     "data": {
      "text/plain": [
       "missing                   49949\n",
       "InternalMedicine          14635\n",
       "other                     13726\n",
       "Emergency/Trauma           7565\n",
       "Family/GeneralPractice     7440\n",
       "Cardiology                 5352\n",
       "Surgery-General            3099\n",
       "Name: medical_specialty, dtype: int64"
      ]
     },
     "execution_count": 21,
     "metadata": {},
     "output_type": "execute_result"
    }
   ],
   "source": [
    "data.loc[(data['medical_specialty'] != 'missing') & (data['medical_specialty'] !='InternalMedicine' ) & \n",
    "         (data['medical_specialty'] !='Family/GeneralPractice') & (data['medical_specialty'] !='Cardiology') & \n",
    "         (data['medical_specialty'] !='Surgery-General') & (data['medical_specialty'] !='Emergency/Trauma'), \n",
    "         'medical_specialty'] = 'other'\n",
    "data.medical_specialty.value_counts()\n",
    "#data.medical_specialty.dtype"
   ]
  },
  {
   "cell_type": "markdown",
   "metadata": {},
   "source": [
    " * Neglecting medical specialty which has less than 3000 counts, and counting them all as \"others\""
   ]
  },
  {
   "cell_type": "code",
   "execution_count": 22,
   "metadata": {},
   "outputs": [
    {
     "data": {
      "text/plain": [
       "<matplotlib.axes._subplots.AxesSubplot at 0x17f96a355f8>"
      ]
     },
     "execution_count": 22,
     "metadata": {},
     "output_type": "execute_result"
    },
    {
     "data": {
      "image/png": "[encoded data removed]",
      "text/plain": [
       "<matplotlib.figure.Figure at 0x17f95eb5588>"
      ]
     },
     "metadata": {},
     "output_type": "display_data"
    }
   ],
   "source": [
    "pd.crosstab(data.medical_specialty,data.readmitted).plot(kind='bar')"
   ]
  },
  {
   "cell_type": "markdown",
   "metadata": {},
   "source": [
    "**num_lab_procedures**"
   ]
  },
  {
   "cell_type": "code",
   "execution_count": 23,
   "metadata": {},
   "outputs": [
    {
     "data": {
      "text/plain": [
       "<matplotlib.axes._subplots.AxesSubplot at 0x17f96e1e400>"
      ]
     },
     "execution_count": 23,
     "metadata": {},
     "output_type": "execute_result"
    },
    {
     "data": {
      "image/png": "[encoded data removed]",
      "text/plain": [
       "<matplotlib.figure.Figure at 0x17f969c2828>"
      ]
     },
     "metadata": {},
     "output_type": "display_data"
    },
    {
     "data": {
      "image/png": "[encoded data removed]",
      "text/plain": [
       "<matplotlib.figure.Figure at 0x17f961d2c50>"
      ]
     },
     "metadata": {},
     "output_type": "display_data"
    }
   ],
   "source": [
    "pd.crosstab(data.num_lab_procedures,data.readmitted).plot(kind='bar')\n",
    "#data.num_lab_procedures.value_counts()\n",
    "tlab = pd.crosstab(data.num_lab_procedures,data.readmitted)#.plot(kind='bar')\n",
    "tlab.div(tlab.sum(1).astype(float), axis=0).plot(kind='bar', stacked=True)"
   ]
  },
  {
   "cell_type": "code",
   "execution_count": 24,
   "metadata": {},
   "outputs": [
    {
     "data": {
      "text/plain": [
       "<matplotlib.axes._subplots.AxesSubplot at 0x17f9722d390>"
      ]
     },
     "execution_count": 24,
     "metadata": {},
     "output_type": "execute_result"
    },
    {
     "data": {
      "image/png": "[encoded data removed]",
      "text/plain": [
       "<matplotlib.figure.Figure at 0x17f96e43cc0>"
      ]
     },
     "metadata": {},
     "output_type": "display_data"
    },
    {
     "data": {
      "image/png": "[encoded data removed]",
      "text/plain": [
       "<matplotlib.figure.Figure at 0x17f97238748>"
      ]
     },
     "metadata": {},
     "output_type": "display_data"
    }
   ],
   "source": [
    "pd.crosstab(data.num_procedures,data.readmitted).plot(kind='bar')\n",
    "tnp = pd.crosstab(data.num_procedures,data.discharge_disposition_id)#.plot(kind='bar')\n",
    "tnp.div(tnp.sum(1).astype(float), axis=0).plot(kind='bar', stacked=True)\n"
   ]
  },
  {
   "cell_type": "markdown",
   "metadata": {},
   "source": [
    "**Diagnosis**"
   ]
  },
  {
   "cell_type": "code",
   "execution_count": 25,
   "metadata": {},
   "outputs": [],
   "source": [
    "filter_diag1 = data['diag_1'].astype(str).str.contains('250') # Primary Diagnosis\n",
    "data.loc[filter_diag1, 'diag_1'] = 'diabetes'\n",
    "data.loc[data['diag_1'] != 'diabetes', 'diag_1'] = 'other'"
   ]
  },
  {
   "cell_type": "markdown",
   "metadata": {},
   "source": [
    "ICD 9 CODE with value 250.XX refers to the diagnosis as diabetes"
   ]
  },
  {
   "cell_type": "code",
   "execution_count": 26,
   "metadata": {},
   "outputs": [
    {
     "data": {
      "text/plain": [
       "other       93009\n",
       "diabetes     8757\n",
       "Name: diag_1, dtype: int64"
      ]
     },
     "execution_count": 26,
     "metadata": {},
     "output_type": "execute_result"
    }
   ],
   "source": [
    "data.diag_1.value_counts()"
   ]
  },
  {
   "cell_type": "code",
   "execution_count": 27,
   "metadata": {},
   "outputs": [],
   "source": [
    "filter_diag2 = data['diag_2'].astype(str).str.contains('250') # Secondary Diagnosis\n",
    "data.loc[filter_diag2, 'diag_2'] = 'diabetes'\n",
    "data.loc[data['diag_2'] != 'diabetes', 'diag_2'] = 'other'"
   ]
  },
  {
   "cell_type": "code",
   "execution_count": 28,
   "metadata": {},
   "outputs": [
    {
     "data": {
      "text/plain": [
       "other       88972\n",
       "diabetes    12794\n",
       "Name: diag_2, dtype: int64"
      ]
     },
     "execution_count": 28,
     "metadata": {},
     "output_type": "execute_result"
    }
   ],
   "source": [
    "data.diag_2.value_counts()"
   ]
  },
  {
   "cell_type": "code",
   "execution_count": 29,
   "metadata": {},
   "outputs": [],
   "source": [
    "filter_diag3 = data['diag_3'].astype(str).str.contains('250') # Secondary Diagnosis 2\n",
    "data.loc[filter_diag3, 'diag_3'] = 'diabetes'\n",
    "data.loc[data['diag_3'] != 'diabetes', 'diag_3'] = 'other'"
   ]
  },
  {
   "cell_type": "code",
   "execution_count": 282,
   "metadata": {},
   "outputs": [
    {
     "data": {
      "text/plain": [
       "other       84609\n",
       "diabetes    17157\n",
       "Name: diag_3, dtype: int64"
      ]
     },
     "execution_count": 282,
     "metadata": {},
     "output_type": "execute_result"
    }
   ],
   "source": [
    "data.diag_3.value_counts()"
   ]
  },
  {
   "cell_type": "markdown",
   "metadata": {},
   "source": [
    "**Age**"
   ]
  },
  {
   "cell_type": "code",
   "execution_count": 30,
   "metadata": {},
   "outputs": [],
   "source": [
    "data.loc[(data['age'] == '[0-10)') | (data['age'] =='[10-20)' ) | (data['age'] =='[20-30)'), 'age'] = '[0-30)'\n",
    "data.loc[(data['age'] == '[40-50)') | (data['age'] =='[50-60)' ) | (data['age'] =='[60-70)') | \n",
    "         (data['age'] =='[30-40)'), 'age'] = '[30-70)'\n",
    "data.loc[(data['age'] == '[70-80)') | (data['age'] =='[80-90)' ) | (data['age'] =='[90-100)'), 'age'] = '[70-100)'"
   ]
  },
  {
   "cell_type": "code",
   "execution_count": 31,
   "metadata": {},
   "outputs": [
    {
     "data": {
      "text/plain": [
       "[30-70)     53199\n",
       "[70-100)    46058\n",
       "[0-30)       2509\n",
       "Name: age, dtype: int64"
      ]
     },
     "execution_count": 31,
     "metadata": {},
     "output_type": "execute_result"
    }
   ],
   "source": [
    "data.age.value_counts()"
   ]
  },
  {
   "cell_type": "code",
   "execution_count": 32,
   "metadata": {},
   "outputs": [
    {
     "data": {
      "text/plain": [
       "<matplotlib.axes._subplots.AxesSubplot at 0x17f969dd0b8>"
      ]
     },
     "execution_count": 32,
     "metadata": {},
     "output_type": "execute_result"
    },
    {
     "data": {
      "image/png": "[encoded data removed]",
      "text/plain": [
       "<matplotlib.figure.Figure at 0x17f95c49828>"
      ]
     },
     "metadata": {},
     "output_type": "display_data"
    }
   ],
   "source": [
    "tage = pd.crosstab(data.age,data.readmitted)#.plot(kind='bar')\n",
    "tage.div(tage.sum(1).astype(float), axis=0).plot(kind='bar', stacked=True)"
   ]
  },
  {
   "cell_type": "markdown",
   "metadata": {},
   "source": [
    "## Logistic Regression"
   ]
  },
  {
   "cell_type": "code",
   "execution_count": 33,
   "metadata": {},
   "outputs": [],
   "source": [
    "from sklearn.linear_model import LogisticRegression\n",
    "from sklearn.model_selection import train_test_split\n"
   ]
  },
  {
   "cell_type": "code",
   "execution_count": 34,
   "metadata": {},
   "outputs": [
    {
     "data": {
      "text/plain": [
       "<matplotlib.axes._subplots.AxesSubplot at 0x17f95c3a5f8>"
      ]
     },
     "execution_count": 34,
     "metadata": {},
     "output_type": "execute_result"
    },
    {
     "data": {
      "image/png": "[encoded data removed]",
      "text/plain": [
       "<matplotlib.figure.Figure at 0x17f95cfb160>"
      ]
     },
     "metadata": {},
     "output_type": "display_data"
    }
   ],
   "source": [
    "data.age.hist()"
   ]
  },
  {
   "cell_type": "code",
   "execution_count": 36,
   "metadata": {},
   "outputs": [
    {
     "data": {
      "image/png": "[encoded data removed]",
      "text/plain": [
       "<matplotlib.figure.Figure at 0x17f9732a2e8>"
      ]
     },
     "metadata": {},
     "output_type": "display_data"
    }
   ],
   "source": [
    "sns.countplot(x = 'readmitted', data =  data, palette = 'hls')\n",
    "plt.show()"
   ]
  },
  {
   "cell_type": "markdown",
   "metadata": {},
   "source": [
    "Creating dummy variables"
   ]
  },
  {
   "cell_type": "code",
   "execution_count": 37,
   "metadata": {},
   "outputs": [],
   "source": [
    "cols = ['race','gender','age','admission_source_id','admission_type_id','time_in_hospital','discharge_disposition_id',\n",
    "          'medical_specialty','diag_1','diag_2','diag_3','max_glu_serum','A1Cresult','change','diabetesMed']\n",
    "#for var in cat_vars:\n",
    "#    cat_list = 'var' + '_'+ var\n",
    "#    cat_list = pd.get_dummies(data[var], prefix=var)\n",
    "#    data1 = data.join(cat_list)\n",
    "#    dataf = data1\n",
    "\n",
    "#cat_vars = ['race','gender','age','admission_type_id','time_in_hospital','discharge_disposition_id','medical_specialty',\n",
    "#          'admission_source_id','diag_1','diag_2','diag_3','max_glu_serum','A1Cresult','change','diabetesMed']\n",
    "#data_vars = data.columns.values.tolist()\n",
    "#to_keep = [i for i in data_vars if i not in cat_vars]\n",
    "\n",
    "\n",
    "naku = pd.get_dummies(data, columns = cols) # change naku later!!"
   ]
  },
  {
   "cell_type": "code",
   "execution_count": 38,
   "metadata": {},
   "outputs": [
    {
     "data": {
      "text/plain": [
       "Index(['num_lab_procedures', 'num_procedures', 'num_medications',\n",
       "       'number_outpatient', 'number_emergency', 'number_inpatient',\n",
       "       'number_diagnoses', 'readmitted', 'race_AfricanAmerican', 'race_Asian',\n",
       "       'race_Caucasian', 'race_Hispanic', 'race_Other', 'race_missing',\n",
       "       'gender_Female', 'gender_Male', 'gender_Unknown/Invalid', 'age_[0-30)',\n",
       "       'age_[30-70)', 'age_[70-100)', 'admission_source_id_0',\n",
       "       'admission_source_id_1', 'admission_source_id_7', 'admission_type_id_0',\n",
       "       'admission_type_id_1', 'admission_type_id_2', 'admission_type_id_3',\n",
       "       'time_in_hospital_1-4', 'time_in_hospital_5-8', 'time_in_hospital_9-14',\n",
       "       'discharge_disposition_id_0', 'discharge_disposition_id_1',\n",
       "       'medical_specialty_Cardiology', 'medical_specialty_Emergency/Trauma',\n",
       "       'medical_specialty_Family/GeneralPractice',\n",
       "       'medical_specialty_InternalMedicine',\n",
       "       'medical_specialty_Surgery-General', 'medical_specialty_missing',\n",
       "       'medical_specialty_other', 'diag_1_diabetes', 'diag_1_other',\n",
       "       'diag_2_diabetes', 'diag_2_other', 'diag_3_diabetes', 'diag_3_other',\n",
       "       'max_glu_serum_>200', 'max_glu_serum_>300', 'max_glu_serum_None',\n",
       "       'max_glu_serum_Norm', 'A1Cresult_>7', 'A1Cresult_>8', 'A1Cresult_None',\n",
       "       'A1Cresult_Norm', 'change_Ch', 'change_No', 'diabetesMed_No',\n",
       "       'diabetesMed_Yes'],\n",
       "      dtype='object')"
      ]
     },
     "execution_count": 38,
     "metadata": {},
     "output_type": "execute_result"
    }
   ],
   "source": [
    "naku.columns"
   ]
  },
  {
   "cell_type": "code",
   "execution_count": 40,
   "metadata": {},
   "outputs": [],
   "source": [
    "os_data_X = naku.loc[:, naku.columns != 'readmitted']\n",
    "os_data_y = naku.loc[:, naku.columns == 'readmitted']"
   ]
  },
  {
   "cell_type": "markdown",
   "metadata": {},
   "source": [
    "**Recursive Feature Elimination**"
   ]
  },
  {
   "cell_type": "code",
   "execution_count": 41,
   "metadata": {},
   "outputs": [
    {
     "name": "stdout",
     "output_type": "stream",
     "text": [
      "[False False False False  True  True False  True  True  True False False\n",
      "  True  True  True  True  True  True False  True False  True  True  True\n",
      " False  True  True False False False False False False False  True False\n",
      " False  True False  True False False False False  True False  True  True\n",
      " False False False  True False False  True False]\n",
      "[32 22 29 11  1  1  9  1  1  1 21 14  1  1  1  1  1  1 15  1 27  1  1  1\n",
      "  2  1  1 23 24  5  6 25 17 18  1 13 26  1 31  1 16  7 12  8  1 20  1  1\n",
      " 10 19 28  1  4  3  1 30]\n"
     ]
    }
   ],
   "source": [
    "#data_xcols = data_fi.columns.values.tolist()\n",
    "#y = ['readmitted']\n",
    "#X = [i for i in data_final_vars if i not in y]\n",
    "\n",
    "from sklearn.feature_selection import RFE\n",
    "from sklearn.linear_model import LogisticRegression\n",
    "\n",
    "logreg = LogisticRegression()\n",
    "rfe = RFE(logreg, 25, step = 1) # 30 is the numbers of features selected, bydefault it is half of the features present\n",
    "rfe = rfe.fit(os_data_X, os_data_y.values.ravel())\n",
    "\n",
    "print(rfe.support_)\n",
    "print(rfe.ranking_)"
   ]
  },
  {
   "cell_type": "code",
   "execution_count": 42,
   "metadata": {},
   "outputs": [],
   "source": [
    "new_cols = ['number_emergency','number_inpatient','race_AfricanAmerican','race_Asian','race_Caucasian','race_missing',\n",
    "            'gender_Female','gender_Male','gender_Unknown/Invalid','age_[0-30)','age_[30-70)','admission_source_id_0',\n",
    "            'admission_source_id_7','admission_type_id_0','admission_type_id_1','admission_type_id_3','time_in_hospital_1-4',\n",
    "            'medical_specialty_InternalMedicine','medical_specialty_other','diag_1_other','max_glu_serum_>200',\n",
    "            'max_glu_serum_None','max_glu_serum_Norm','A1Cresult_Norm','diabetesMed_No']"
   ]
  },
  {
   "cell_type": "code",
   "execution_count": 43,
   "metadata": {},
   "outputs": [],
   "source": [
    "#n = 55\n",
    "#os_data_X.columns[n-1]\n",
    "\n",
    "X = os_data_X[new_cols]\n",
    "os_y = os_data_y.replace(['YES','NO'], [1,0])\n",
    "y = os_y['readmitted']"
   ]
  },
  {
   "cell_type": "code",
   "execution_count": 44,
   "metadata": {},
   "outputs": [
    {
     "name": "stderr",
     "output_type": "stream",
     "text": [
      "C:\\ProgramData\\Anaconda3\\lib\\site-packages\\statsmodels\\compat\\pandas.py:56: FutureWarning: The pandas.core.datetools module is deprecated and will be removed in a future version. Please use the pandas.tseries module instead.\n",
      "  from pandas.core import datetools\n"
     ]
    },
    {
     "name": "stdout",
     "output_type": "stream",
     "text": [
      "Warning: Maximum number of iterations has been exceeded.\n",
      "         Current function value: 0.652198\n",
      "         Iterations: 35\n"
     ]
    },
    {
     "name": "stderr",
     "output_type": "stream",
     "text": [
      "C:\\ProgramData\\Anaconda3\\lib\\site-packages\\statsmodels\\base\\model.py:496: ConvergenceWarning: Maximum Likelihood optimization failed to converge. Check mle_retvals\n",
      "  \"Check mle_retvals\", ConvergenceWarning)\n"
     ]
    },
    {
     "name": "stdout",
     "output_type": "stream",
     "text": [
      "                                     Results: Logit\n",
      "=========================================================================================\n",
      "Model:                       Logit                   No. Iterations:          35.0000    \n",
      "Dependent Variable:          readmitted              Pseudo R-squared:        0.055      \n",
      "Date:                        2018-10-28 17:56        AIC:                     132793.2046\n",
      "No. Observations:            101766                  BIC:                     133031.4654\n",
      "Df Model:                    24                      Log-Likelihood:          -66372.    \n",
      "Df Residuals:                101741                  LL-Null:                 -70227.    \n",
      "Converged:                   0.0000                  Scale:                   1.0000     \n",
      "-----------------------------------------------------------------------------------------\n",
      "                                    Coef.   Std.Err.    z     P>|z|    [0.025     0.975] \n",
      "-----------------------------------------------------------------------------------------\n",
      "number_emergency                     0.2393   0.0124  19.2294 0.0000     0.2149    0.2637\n",
      "number_inpatient                     0.3921   0.0069  56.5612 0.0000     0.3785    0.4057\n",
      "race_AfricanAmerican                 0.2174   0.0388   5.6026 0.0000     0.1413    0.2934\n",
      "race_Asian                          -0.1955   0.0923  -2.1183 0.0342    -0.3763   -0.0146\n",
      "race_Caucasian                       0.2665   0.0364   7.3150 0.0000     0.1951    0.3379\n",
      "race_missing                        -0.1514   0.0585  -2.5863 0.0097    -0.2661   -0.0367\n",
      "gender_Female                       -0.0885   0.0783  -1.1298 0.2586    -0.2420    0.0650\n",
      "gender_Male                         -0.1489   0.0784  -1.8991 0.0575    -0.3026    0.0048\n",
      "gender_Unknown/Invalid             -14.3281 997.1589  -0.0144 0.9885 -1968.7236 1940.0673\n",
      "age_[0-30)                          -0.4239   0.0467  -9.0705 0.0000    -0.5155   -0.3323\n",
      "age_[30-70)                         -0.1188   0.0136  -8.7525 0.0000    -0.1454   -0.0922\n",
      "admission_source_id_0               -0.3782   0.0252 -14.9866 0.0000    -0.4277   -0.3288\n",
      "admission_source_id_7                0.1579   0.0233   6.7895 0.0000     0.1123    0.2034\n",
      "admission_type_id_0                  0.3390   0.0295  11.4827 0.0000     0.2811    0.3969\n",
      "admission_type_id_1                 -0.1090   0.0217  -5.0327 0.0000    -0.1514   -0.0665\n",
      "admission_type_id_3                 -0.1307   0.0231  -5.6488 0.0000    -0.1760   -0.0853\n",
      "time_in_hospital_1-4                -0.1318   0.0136  -9.6992 0.0000    -0.1585   -0.1052\n",
      "medical_specialty_InternalMedicine  -0.2016   0.0192 -10.4771 0.0000    -0.2393   -0.1639\n",
      "medical_specialty_other             -0.2075   0.0208  -9.9853 0.0000    -0.2482   -0.1667\n",
      "diag_1_other                        -0.1635   0.0244  -6.6860 0.0000    -0.2114   -0.1156\n",
      "max_glu_serum_>200                  -0.1546   0.0805  -1.9206 0.0548    -0.3124    0.0032\n",
      "max_glu_serum_None                  -0.1100   0.0626  -1.7568 0.0790    -0.2326    0.0127\n",
      "max_glu_serum_Norm                  -0.1613   0.0726  -2.2230 0.0262    -0.3035   -0.0191\n",
      "A1Cresult_Norm                      -0.1527   0.0304  -5.0192 0.0000    -0.2123   -0.0931\n",
      "diabetesMed_No                      -0.2713   0.0157 -17.2484 0.0000    -0.3021   -0.2405\n",
      "=========================================================================================\n",
      "\n"
     ]
    }
   ],
   "source": [
    "import statsmodels.api as sm\n",
    "\n",
    "logit_model = sm.Logit(y,X)\n",
    "result = logit_model.fit()\n",
    "print(result.summary2())"
   ]
  },
  {
   "cell_type": "markdown",
   "metadata": {},
   "source": [
    "* let's remove the columns whose P-value is less than 0.05"
   ]
  },
  {
   "cell_type": "code",
   "execution_count": 45,
   "metadata": {},
   "outputs": [
    {
     "name": "stdout",
     "output_type": "stream",
     "text": [
      "Optimization terminated successfully.\n",
      "         Current function value: 0.652311\n",
      "         Iterations 6\n",
      "                                  Results: Logit\n",
      "===================================================================================\n",
      "Model:                     Logit                 No. Iterations:        6.0000     \n",
      "Dependent Variable:        readmitted            Pseudo R-squared:      0.055      \n",
      "Date:                      2018-10-28 17:56      AIC:                   132808.2341\n",
      "No. Observations:          101766                BIC:                   133008.3732\n",
      "Df Model:                  20                    Log-Likelihood:        -66383.    \n",
      "Df Residuals:              101745                LL-Null:               -70227.    \n",
      "Converged:                 1.0000                Scale:                 1.0000     \n",
      "-----------------------------------------------------------------------------------\n",
      "                                    Coef.  Std.Err.    z     P>|z|   [0.025  0.975]\n",
      "-----------------------------------------------------------------------------------\n",
      "number_emergency                    0.2384   0.0124  19.1978 0.0000  0.2141  0.2628\n",
      "number_inpatient                    0.3902   0.0069  56.4783 0.0000  0.3766  0.4037\n",
      "race_AfricanAmerican                0.1105   0.0283   3.9044 0.0001  0.0550  0.1659\n",
      "race_Asian                         -0.2995   0.0885  -3.3845 0.0007 -0.4730 -0.1261\n",
      "race_Caucasian                      0.1594   0.0248   6.4315 0.0000  0.1108  0.2079\n",
      "race_missing                       -0.2641   0.0516  -5.1193 0.0000 -0.3652 -0.1630\n",
      "gender_Male                        -0.0675   0.0131  -5.1611 0.0000 -0.0931 -0.0419\n",
      "age_[0-30)                         -0.4538   0.0461  -9.8364 0.0000 -0.5443 -0.3634\n",
      "age_[30-70)                        -0.1301   0.0133  -9.8124 0.0000 -0.1561 -0.1041\n",
      "admission_source_id_0              -0.3944   0.0245 -16.1046 0.0000 -0.4424 -0.3464\n",
      "admission_source_id_7               0.1355   0.0225   6.0217 0.0000  0.0914  0.1796\n",
      "admission_type_id_0                 0.3255   0.0276  11.7930 0.0000  0.2714  0.3795\n",
      "admission_type_id_1                -0.1169   0.0216  -5.4255 0.0000 -0.1592 -0.0747\n",
      "admission_type_id_3                -0.1547   0.0223  -6.9232 0.0000 -0.1984 -0.1109\n",
      "time_in_hospital_1-4               -0.1417   0.0134 -10.5824 0.0000 -0.1679 -0.1155\n",
      "medical_specialty_InternalMedicine -0.2096   0.0191 -10.9556 0.0000 -0.2471 -0.1721\n",
      "medical_specialty_other            -0.2148   0.0207 -10.3716 0.0000 -0.2553 -0.1742\n",
      "diag_1_other                       -0.2132   0.0214  -9.9435 0.0000 -0.2552 -0.1712\n",
      "max_glu_serum_Norm                 -0.0523   0.0456  -1.1485 0.2508 -0.1416  0.0370\n",
      "A1Cresult_Norm                     -0.1593   0.0304  -5.2433 0.0000 -0.2188 -0.0997\n",
      "diabetesMed_No                     -0.2741   0.0157 -17.4452 0.0000 -0.3049 -0.2433\n",
      "===================================================================================\n",
      "\n"
     ]
    }
   ],
   "source": [
    "new_cols = ['number_emergency','number_inpatient','race_AfricanAmerican','race_Asian','race_Caucasian','race_missing',\n",
    "            'gender_Male','age_[0-30)','age_[30-70)','admission_source_id_0',\n",
    "            'admission_source_id_7','admission_type_id_0','admission_type_id_1','admission_type_id_3','time_in_hospital_1-4',\n",
    "            'medical_specialty_InternalMedicine','medical_specialty_other','diag_1_other',\n",
    "            'max_glu_serum_Norm','A1Cresult_Norm','diabetesMed_No']\n",
    "\n",
    "X = os_data_X[new_cols]\n",
    "#os_y = os_data_y.replace(['YES','NO'], [1,0])\n",
    "y = os_y['readmitted']\n",
    "\n",
    "logit_model = sm.Logit(y,X)\n",
    "result = logit_model.fit()\n",
    "print(result.summary2())"
   ]
  },
  {
   "cell_type": "code",
   "execution_count": 46,
   "metadata": {},
   "outputs": [
    {
     "data": {
      "text/plain": [
       "LogisticRegression(C=1.0, class_weight=None, dual=False, fit_intercept=True,\n",
       "          intercept_scaling=1, max_iter=100, multi_class='ovr', n_jobs=1,\n",
       "          penalty='l2', random_state=None, solver='liblinear', tol=0.0001,\n",
       "          verbose=0, warm_start=False)"
      ]
     },
     "execution_count": 46,
     "metadata": {},
     "output_type": "execute_result"
    }
   ],
   "source": [
    "# Logistic Regression fitting; FINALLY\n",
    "\n",
    "from sklearn.linear_model import LogisticRegression\n",
    "from sklearn import metrics\n",
    "\n",
    "X_train, X_test, y_train, y_test = train_test_split(X, y, test_size=0.3, random_state=0) # X:indep.var, y:dep.var, not col names\n",
    "logreg = LogisticRegression()\n",
    "logreg.fit(X_train, y_train)"
   ]
  },
  {
   "cell_type": "code",
   "execution_count": 47,
   "metadata": {},
   "outputs": [
    {
     "name": "stdout",
     "output_type": "stream",
     "text": [
      "Accuracy of logistic regression classifier on test set: 0.62\n"
     ]
    }
   ],
   "source": [
    "y_pred = logreg.predict(X_test)\n",
    "print('Accuracy of logistic regression classifier on test set: {:.2f}'.format(logreg.score(X_test, y_test)))"
   ]
  },
  {
   "cell_type": "code",
   "execution_count": 48,
   "metadata": {},
   "outputs": [
    {
     "data": {
      "text/plain": [
       "0    54864\n",
       "1    46902\n",
       "Name: readmitted, dtype: int64"
      ]
     },
     "execution_count": 48,
     "metadata": {},
     "output_type": "execute_result"
    }
   ],
   "source": [
    "os_y.readmitted.value_counts()"
   ]
  },
  {
   "cell_type": "code",
   "execution_count": 49,
   "metadata": {},
   "outputs": [
    {
     "name": "stdout",
     "output_type": "stream",
     "text": [
      "[[13248  3178]\n",
      " [ 8503  5601]]\n"
     ]
    }
   ],
   "source": [
    "from sklearn.metrics import confusion_matrix\n",
    "confusion_matrix = confusion_matrix(y_test, y_pred)\n",
    "print(confusion_matrix)"
   ]
  },
  {
   "cell_type": "markdown",
   "metadata": {},
   "source": [
    "* The result is telling us that we have 13248+5601 correct predictions and 8503+3178 incorrect predictions."
   ]
  },
  {
   "cell_type": "markdown",
   "metadata": {},
   "source": [
    "**ROC Curve**"
   ]
  },
  {
   "cell_type": "code",
   "execution_count": 53,
   "metadata": {},
   "outputs": [
    {
     "data": {
      "image/png": "[encoded data removed]",
      "text/plain": [
       "<matplotlib.figure.Figure at 0x17f973a6cf8>"
      ]
     },
     "metadata": {},
     "output_type": "display_data"
    }
   ],
   "source": [
    "from sklearn.metrics import roc_auc_score\n",
    "from sklearn.metrics import roc_curve\n",
    "\n",
    "logit_roc_auc = roc_auc_score(y_test, logreg.predict(X_test)) # gives area under the curve\n",
    "fpr, tpr, thresholds = roc_curve(y_test, logreg.predict_proba(X_test)[:,1])\n",
    "\n",
    "plt.figure()\n",
    "plt.plot(fpr, tpr, label='Logistic Regression (area = %0.2f)' % logit_roc_auc)\n",
    "plt.plot([0, 1], [0, 1],'r--')\n",
    "plt.xlim([0.0, 1.0])\n",
    "plt.ylim([0.0, 1.05])\n",
    "plt.xlabel('False Positive Rate')\n",
    "plt.ylabel('True Positive Rate')\n",
    "plt.title('Receiver operating characteristic')\n",
    "plt.legend(loc=\"lower right\")\n",
    "plt.grid\n",
    "plt.show()"
   ]
  },
  {
   "cell_type": "markdown",
   "metadata": {},
   "source": [
    "* The area under the curve is 0.60, which is not very good since 0.5 refers to the no discrimination ability of the model, and 1 corresponds to a perfect discrimination"
   ]
  },
  {
   "cell_type": "code",
   "execution_count": 1,
   "metadata": {},
   "outputs": [
    {
     "data": {
      "text/plain": [
       "4"
      ]
     },
     "execution_count": 1,
     "metadata": {},
     "output_type": "execute_result"
    }
   ],
   "source": [
    "2+2"
   ]
  },
  {
   "cell_type": "code",
   "execution_count": null,
   "metadata": {},
   "outputs": [],
   "source": []
  }
 ],
 "metadata": {
  "kernelspec": {
   "display_name": "Python 3",
   "language": "python",
   "name": "python3"
  },
  "language_info": {
   "codemirror_mode": {
    "name": "ipython",
    "version": 3
   },
   "file_extension": ".py",
   "mimetype": "text/x-python",
   "name": "python",
   "nbconvert_exporter": "python",
   "pygments_lexer": "ipython3",
   "version": "3.6.4"
  }
 },
 "nbformat": 4,
 "nbformat_minor": 2
}
